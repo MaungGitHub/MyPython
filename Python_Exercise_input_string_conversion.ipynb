{
  "nbformat": 4,
  "nbformat_minor": 0,
  "metadata": {
    "colab": {
      "name": "Python_Exercise_input_string_conversion.ipynb",
      "provenance": [],
      "authorship_tag": "ABX9TyPN77VtM76U2JA3WwmuLesJ",
      "include_colab_link": true
    },
    "kernelspec": {
      "name": "python3",
      "display_name": "Python 3"
    },
    "language_info": {
      "name": "python"
    }
  },
  "cells": [
    {
      "cell_type": "markdown",
      "metadata": {
        "id": "view-in-github",
        "colab_type": "text"
      },
      "source": [
        "<a href=\"https://colab.research.google.com/github/MaungGitHub/MyPython/blob/main/Python_Exercise_input_string_conversion.ipynb\" target=\"_parent\"><img src=\"https://colab.research.google.com/assets/colab-badge.svg\" alt=\"Open In Colab\"/></a>"
      ]
    },
    {
      "cell_type": "code",
      "metadata": {
        "colab": {
          "base_uri": "https://localhost:8080/"
        },
        "id": "VERQU1latGuh",
        "outputId": "f6f906f7-52d5-4efd-de81-bffd71421f78"
      },
      "source": [
        "name = input (\"Enter your name\")   #Display user's input using input function\n",
        "print(name)"
      ],
      "execution_count": null,
      "outputs": [
        {
          "output_type": "stream",
          "text": [
            "Enter your nameMaung Maung\n",
            "Maung Maung\n"
          ],
          "name": "stdout"
        }
      ]
    },
    {
      "cell_type": "code",
      "metadata": {
        "colab": {
          "base_uri": "https://localhost:8080/"
        },
        "id": "mBLwJD6ktZHi",
        "outputId": "b0a418fd-9ca0-472f-d2d3-cae79aa4d322"
      },
      "source": [
        "print(type(name)) #Display String or int or float"
      ],
      "execution_count": null,
      "outputs": [
        {
          "output_type": "stream",
          "text": [
            "<class 'str'>\n"
          ],
          "name": "stdout"
        }
      ]
    },
    {
      "cell_type": "code",
      "metadata": {
        "colab": {
          "base_uri": "https://localhost:8080/"
        },
        "id": "jf5n7xjzw0pp",
        "outputId": "837ccf69-1169-4382-fa1b-ab5cd8496d0e"
      },
      "source": [
        "number= int(input(\"Enter your age\")) #Display user's input using input function and display int conver from string to int\n",
        "print(type(number))"
      ],
      "execution_count": null,
      "outputs": [
        {
          "output_type": "stream",
          "text": [
            "Enter your age50\n",
            "<class 'int'>\n"
          ],
          "name": "stdout"
        }
      ]
    },
    {
      "cell_type": "code",
      "metadata": {
        "colab": {
          "base_uri": "https://localhost:8080/"
        },
        "id": "yvhdFwzX7cZP",
        "outputId": "1c0f3bcf-b0f0-4cce-c5b6-6e76970bd831"
      },
      "source": [
        "#pratice input function and conversion from str to int and float\n",
        "name=input('Enter your name :')\n",
        "\n",
        "age=int(input(\"Please Enter your Age : \"))\n",
        "\n",
        "money=float(input(\"How much do you have include cent\"))\n",
        "\n",
        "print(name)\n",
        "print(age)\n",
        "print(money)\n",
        "\n"
      ],
      "execution_count": 36,
      "outputs": [
        {
          "output_type": "stream",
          "text": [
            "Enter your name :m\n",
            "Please Enter your Age : 5\n",
            "How much do you have include cent52\n",
            "m\n",
            "5\n",
            "52.0\n"
          ],
          "name": "stdout"
        }
      ]
    },
    {
      "cell_type": "code",
      "metadata": {
        "id": "oZxoSCOK7zTe"
      },
      "source": [
        ""
      ],
      "execution_count": null,
      "outputs": []
    }
  ]
}